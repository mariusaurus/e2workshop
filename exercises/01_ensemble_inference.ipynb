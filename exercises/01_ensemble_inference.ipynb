{
 "cells": [
  {
   "cell_type": "markdown",
   "metadata": {},
   "source": [
    "\n",
    "# Running Ensemble Inference\n",
    "\n",
    "The following notebook demostrates how to use Earth-2 MIP's config schema and builtin\n",
    "inference workflows to perform ensemmble inference of the FourCastNetv2 small (FCNv2-sm)\n",
    "weather model with an intial state pulled from the Climate Data Store (CDS) and\n",
    "perturbed with random noise. The ensemble output will then be loaded into an Xarray\n",
    "Dataset and some sample data analysis is provided.\n",
    "\n",
    "In summary this notebook will cover the following topics:\n",
    "\n",
    "- Configuring and setting up FCNv2 model registry\n",
    "- An ensemble configuration file\n",
    "- Running ensemble inference in Earth-2 MIP to produce an xarray DataSet\n",
    "- Post processing results\n"
   ]
  },
  {
   "cell_type": "markdown",
   "metadata": {},
   "source": [
    "## Set Up\n",
    "Starting off with imports, hopefully you have already installed Earth-2 MIP from this\n",
    "repository. There are a few additional packages needed.\n",
    "\n"
   ]
  },
  {
   "cell_type": "code",
   "execution_count": null,
   "metadata": {
    "collapsed": false,
    "jupyter": {
     "outputs_hidden": false
    }
   },
   "outputs": [],
   "source": [
    "import json\n",
    "import os"
   ]
  },
  {
   "cell_type": "markdown",
   "metadata": {},
   "source": [
    "Prior to importing Earth-2 MIP, users need to be aware of a few enviroment variables\n",
    "which can be used to customize Earth-2 MIPs global behavior. These must be set prior to\n",
    "importing Earth-2 MIP. There are a number of different configuration options, some to\n",
    "consider are:\n",
    "\n",
    "- `WORLD_SIZE`: Tells Earth-2 MIP (which uses Modulus under the hood) the number of GPUs to use for inferencing.\n",
    "- `MODEL_REGISTRY`: This variable tells Earth-2 MIP where location the model registery. By default this is located in `${HOME}/.cache/earth2mip/models`.\n",
    "\n",
    "*Key Concept*: A model registry is a folder that Earth-2 MIP will explore to find model\n",
    "checkpoints to load. A folder containing the required fileds is referred to as a\n",
    "\"model package\". Model packages typically consist of a few files such as:\n",
    "\n",
    "- `weights.tar`/`weights.mdlus`: the model checkpoint to load\n",
    "- `metadata.json`: a JSON file that contains meta info regarding various details for using the model\n",
    "- `config.json`: constains parameters needed to instantiate the model object in python\n",
    "- `global_means.npy`: A numpy array containing the mean values used for normalization of data in the model\n",
    "- `global_std.npy`: A numpy array containing the standard deviation values used for normalization of data in the model\n",
    "\n"
   ]
  },
  {
   "cell_type": "code",
   "execution_count": null,
   "metadata": {
    "collapsed": false,
    "jupyter": {
     "outputs_hidden": false
    }
   },
   "outputs": [],
   "source": [
    "import xarray\n",
    "\n",
    "# With the enviroment variables set now we import Earth-2 MIP\n",
    "from earth2mip import inference_ensemble, registry"
   ]
  },
  {
   "cell_type": "markdown",
   "metadata": {},
   "source": [
    "The cell above created a model registry folder for us, but if this is your first\n",
    "notebook its likely empty. Lets fix that. As previously metioned we will be using the\n",
    "FCNv2-sm weather model with the checkpoint provided on the Nvidia Modulus model\n",
    "registry. The model is shipped via a zip folder containing the required checkpoint files\n",
    "discussed above.\n",
    "\n",
    "Since this model is built into Earth-2 MIP, the `registry.get_model` function can be\n",
    "used to auto-download and extract it (this can take a bit).\n",
    "The `e2mip://` prefix on the model URI, will point Earth-2 MIP to use the package\n",
    "fetch methods built into the model.\n",
    "Without it, Earth-2 MIP will simply look for a `fcnv2_sm` folder in your model registry\n",
    "and not attempt to download anything for you.\n",
    "Once complete, go look in your `MODEL_REGISTRY` folder and the files needed for FCNv2\n",
    "should now be present.\n",
    "\n"
   ]
  },
  {
   "cell_type": "code",
   "execution_count": null,
   "metadata": {
    "collapsed": false,
    "jupyter": {
     "outputs_hidden": false
    }
   },
   "outputs": [],
   "source": [
    "print(\"Fetching model package...\")\n",
    "package = registry.get_model(\"e2mip://fcnv2_sm\")"
   ]
  },
  {
   "cell_type": "markdown",
   "metadata": {},
   "source": [
    "The final setup step is to set up your CDS API key so we can access ERA5 data to act as\n",
    "an initial state. Earth-2 MIP supports a number of different initial state data sources\n",
    "that are supported including HDF5, CDS, GFS, etc. The CDS initial state provides a\n",
    "convenient way to access a limited amount of historical weather data. Its recommended\n",
    "for accessing an initial state, but larger data requirements should use locally stored\n",
    "weather datasets.\n",
    "\n",
    "Enter your CDS API uid and key below (found under your profile page).\n",
    "If you don't a CDS API key, find out more here.\n",
    "\n",
    "- [https://cds.climate.copernicus.eu/cdsapp#!/home](https://cds.climate.copernicus.eu/cdsapp#!/home)\n",
    "- [https://cds.climate.copernicus.eu/api-how-to](https://cds.climate.copernicus.eu/api-how-to)\n",
    "\n"
   ]
  },
  {
   "cell_type": "code",
   "execution_count": null,
   "metadata": {
    "collapsed": false,
    "jupyter": {
     "outputs_hidden": false
    }
   },
   "outputs": [],
   "source": [
    "# cds_api = os.path.join(os.path.expanduser(\"~\"), \".cdsapirc\")\n",
    "# if not os.path.exists(cds_api):\n",
    "#     uid = input(\"Enter in CDS UID (e.g. 123456): \")\n",
    "#     key = input(\"Enter your CDS API key (e.g. 12345678-1234-1234-1234-123456123456): \")\n",
    "#     # Write to config file for CDS library\n",
    "#     with open(cds_api, \"w\") as f:\n",
    "#         f.write(\"url: https://cds.climate.copernicus.eu/api/v2\\n\")\n",
    "#         f.write(f\"key: {uid}:{key}\\n\")"
   ]
  },
  {
   "cell_type": "markdown",
   "metadata": {},
   "source": [
    "## Running Inference\n",
    "\n",
    "To run inference we will use the `earth2mip/ensemble_inference.py` part of Earth-2 MIP.\n",
    "When this Python file, we provide either a config JSON file or a JSON serialized string\n",
    "for it to parse. This config contains the information regarding how the model should run\n",
    "inference. The schema of this can be found in `earth2mip/schema/EnsembleRun`.\n",
    "\n",
    "Since we are working in a notebook, lets create this config Pythonically. There are\n",
    "quite a few parameters that can be used, but lets focus in on a few key ones:\n",
    "\n",
    "- `ensemble_members`: Number ensemble members in the forecast\n",
    "\n",
    "- `noise_amplitude`: The amplitude of the noise pertibation method (we find that a good value to start with is `0.05`, feel free to experiment)\n",
    "\n",
    "- `simulation_length`: Number of (6h) time-steps to predict\n",
    "\n",
    "- `weather_event`: This defines the weather event as a combination of an initial time and a domain.\n",
    "\n",
    "- `output_path`: The output location of the ensemble prediction netCDF file\n",
    "\n",
    "- `weather_model`: The model ID to run. This MUST match the name of the model registry folder with your checkpoint files. So for this example its `fcnv2_sm`.\n",
    "\n",
    "TODO: let users explore effect of noise amplitude!\n",
    "\n",
    "<div class=\"alert alert-info\"><h4>Note</h4><p>Note: While in later notebooks we will demonstrate more Pythonic methods to interact\n",
    "  with Earth-2 MIP's APIs, the built in inference workflows provide a high-degree of\n",
    "  control with little to no programming.</p></div>\n",
    "\n"
   ]
  },
  {
   "cell_type": "code",
   "execution_count": null,
   "metadata": {
    "collapsed": false,
    "jupyter": {
     "outputs_hidden": false
    }
   },
   "outputs": [],
   "source": [
    "config = {\n",
    "    \"ensemble_members\": 4,\n",
    "    \"noise_amplitude\": 0.05,\n",
    "    \"simulation_length\": 36,\n",
    "    \"weather_event\": {\n",
    "        \"properties\": {\n",
    "            \"name\": \"Globe\",\n",
    "            \"start_time\": \"2017-08-24 12:00:00\",\n",
    "            #\"start_time\": \"2022-07-01 00:00:00\",\n",
    "            \"initial_condition_source\": \"era5\",\n",
    "        },\n",
    "        \"domains\": [\n",
    "            {\n",
    "                \"name\": \"global\",\n",
    "                \"type\": \"Window\",\n",
    "                \"diagnostics\": [{\"type\": \"raw\", \"channels\": [\"t2m\", \"u10m\", \"v10m\", \"u925\", \"v925\"]}],\n",
    "            }\n",
    "        ],\n",
    "    },\n",
    "    \"output_path\": \"outputs/01_ensemble_notebook\",\n",
    "    \"output_frequency\": 1,\n",
    "    \"weather_model\": \"fcnv2_sm\",\n",
    "    \"seed\": 12345,\n",
    "    \"use_cuda_graphs\": False,\n",
    "    \"ensemble_batch_size\": 1,\n",
    "    \"autocast_fp16\": False,\n",
    "    \"perturbation_strategy\": \"correlated\",\n",
    "    \"noise_reddening\": 2.0,\n",
    "}"
   ]
  },
  {
   "cell_type": "code",
   "execution_count": null,
   "metadata": {},
   "outputs": [],
   "source": [
    "import earth2mip\n",
    "earth2mip.config.ERA5_HDF5='/e2ws_data/era5_73var'"
   ]
  },
  {
   "cell_type": "markdown",
   "metadata": {},
   "source": [
    "Now we run the `main()` function in `earth2mip.inference_ensemble` providing our config\n",
    "object which will run inference with the following steps:\n",
    "\n",
    "1. Instantiate and load the FCNv2 small weather model onto the device\n",
    "2. Download the initial state data needed from CDS using your saved API key\n",
    "3. Perturb the initial state based on the parameters in the config and run a forecast predicton\n",
    "4. Save output Xarray dataset to NetCDF file located in `../outputs/01_ensemble_notebook` (the process may take a while!)\n",
    "\n"
   ]
  },
  {
   "cell_type": "code",
   "execution_count": null,
   "metadata": {
    "collapsed": false,
    "jupyter": {
     "outputs_hidden": false
    }
   },
   "outputs": [],
   "source": [
    "# Option 1: Use config file and CLI (use this outside a notebook)\n",
    "# with open('./01_config.json', 'w') as f:\n",
    "#     json.dump(config, f)\n",
    "# ! python3 -m earth2mip.inference_ensemble 01_config.json\n",
    "\n",
    "# Option 2: Feed in JSON string directly into main function\n",
    "config_str = json.dumps(config)\n",
    "inference_ensemble.main(config_str)"
   ]
  },
  {
   "cell_type": "markdown",
   "metadata": {},
   "source": [
    "When the inference is complete we can examine the output in `outputs/01_ensemble_notebook/ensemble_out_0.nc`.\n",
    "\n",
    "Note: if the inference is distributed across N GPUs there will be `ensemble_out_0.nc`, `ensemble_out_1.nc`, ... `ensemble_out_N-1.nc` output files.\n",
    "In this case a function like this could concat the files to a single xarray DataArray:\n",
    "\n",
    "```\n",
    "def _open(f, domain, time, chunks={\"time\": 1}):\n",
    "    root = xarray.open_dataset(f, decode_times=False)\n",
    "    ds = xarray.open_dataset(f, chunks=chunks, group=domain)\n",
    "    ds.attrs = root.attrs\n",
    "    return ds.assign_coords(time=lead_time)\n",
    "\n",
    "def open_ensemble(path, domain, time):\n",
    "    path = pathlib.Path(path)\n",
    "    ensemble_files = list(path.glob(\"ensemble_out_*.nc\"))\n",
    "    return xarray.concat(\n",
    "      [_open(f, group, time) for f in ensemble_files], dim=\"ensemble\"\n",
    "    )\n",
    "```\n",
    "(TODO: Parallel inference / scoring example)\n",
    "\n",
    "But with our single NetCDF file we can load it into a [Xarray Dataset](https://docs.xarray.dev/en/stable/generated/xarray.Dataset.html) with just a few lines of code.\n",
    "\n"
   ]
  },
  {
   "cell_type": "code",
   "execution_count": null,
   "metadata": {
    "collapsed": false,
    "jupyter": {
     "outputs_hidden": false
    }
   },
   "outputs": [],
   "source": [
    "def open_ensemble(f, domain, chunks={\"time\": 1}):\n",
    "    time = xarray.open_dataset(f).time\n",
    "    root = xarray.open_dataset(f, decode_times=False)\n",
    "    ds = xarray.open_dataset(f, chunks=chunks, group=domain)\n",
    "    ds.attrs = root.attrs\n",
    "    return ds.assign_coords(time=time)\n",
    "\n",
    "\n",
    "output_path = config[\"output_path\"]\n",
    "domains = config[\"weather_event\"][\"domains\"][0][\"name\"]\n",
    "ensemble_members = config[\"ensemble_members\"]\n",
    "ds = open_ensemble(os.path.join(output_path, \"ensemble_out_0.nc\"), domains)\n",
    "ds"
   ]
  },
  {
   "cell_type": "markdown",
   "metadata": {},
   "source": [
    "## Post Processing\n",
    "With inference complete, now the fun part: post processing and analysis!\n",
    "You can manipulate the data to your hearts content now that its in an Xarray Dataset.\n",
    "Here we will demonstrate some common plotting / analysis workflows one may be\n",
    "interested. Lets start off with importing all our post processing packages.\n",
    "\n",
    "(You may need to pip install matplotlib and cartopy)\n",
    "\n"
   ]
  },
  {
   "cell_type": "code",
   "execution_count": null,
   "metadata": {
    "collapsed": false,
    "jupyter": {
     "outputs_hidden": false
    }
   },
   "outputs": [],
   "source": [
    "import cartopy.crs as ccrs\n",
    "import cartopy.feature as cfeature\n",
    "import matplotlib.colors as mcolors\n",
    "import matplotlib.pyplot as plt\n",
    "import numpy as np\n",
    "import pandas as pd\n",
    "from matplotlib.colors import TwoSlopeNorm\n",
    "import matplotlib.animation as animation\n",
    "from cartopy.mpl.ticker import LongitudeFormatter, LatitudeFormatter\n",
    "\n",
    "countries = cfeature.NaturalEarthFeature(\n",
    "    category=\"cultural\",\n",
    "    name=\"admin_0_countries\",\n",
    "    scale=\"50m\",\n",
    "    facecolor=\"none\",\n",
    "    edgecolor=\"black\",\n",
    ")"
   ]
  },
  {
   "cell_type": "markdown",
   "metadata": {},
   "source": [
    "Up first, we can plot a time series of the value of a variable (or statistics of that\n",
    "variable) at a given location (lat/lon coord). In this case lets look at the results\n",
    "predicted over New York.\n",
    "\n"
   ]
  },
  {
   "cell_type": "code",
   "execution_count": null,
   "metadata": {
    "collapsed": false,
    "jupyter": {
     "outputs_hidden": false
    }
   },
   "outputs": [],
   "source": [
    "plt.close(\"all\")\n",
    "lead_time = np.array(\n",
    "    (pd.to_datetime(ds.time) - pd.to_datetime(ds.time)[0]).total_seconds() / 3600\n",
    ")\n",
    "nyc_lat = 40\n",
    "nyc_lon = 360 - 74\n",
    "NYC = ds.sel(lon=nyc_lon, lat=nyc_lat)\n",
    "fig = plt.figure(figsize=(9, 6))\n",
    "ax = fig.add_subplot(311)\n",
    "ax.set_title(\"Ensemble members\")\n",
    "ax.plot(lead_time, NYC.u10m.T)\n",
    "ax.set_ylabel(\"u10m [m/s]\")\n",
    "\n",
    "ax = fig.add_subplot(312)\n",
    "ax.set_title(\"deviation from ensemble mean\")\n",
    "ax.plot(lead_time, NYC.t2m.T - NYC.t2m.mean(\"ensemble\"))\n",
    "ax.set_ylabel(\"u10m [m/s]\")\n",
    "\n",
    "ax = fig.add_subplot(313)\n",
    "ax.set_title(\"ensemble spread\")\n",
    "ax.plot(lead_time, NYC.t2m.std(\"ensemble\"))\n",
    "ax.set_xlabel(\"lead_time [h]\")\n",
    "ax.set_ylabel(\"std u10m [m/s]\")\n",
    "plt.tight_layout()\n",
    "plt.savefig(f\"{output_path}/new_york_zonal_winds.png\")"
   ]
  },
  {
   "cell_type": "markdown",
   "metadata": {},
   "source": [
    "Next, lets plot some fields of surface temperature. Since we have an ensemble of\n",
    "predictions, lets display the first ensemble member, which is deterministic member,\n",
    "and also the last ensemble member and the ensemmble standard deviation. One or both of\n",
    "the perturbed members may look a little noisy, thats because our noise amplitude is\n",
    "maybe too high. Try lowering the amplitude in the config or changing pertibation type\n",
    "to see what happens.\n",
    "\n"
   ]
  },
  {
   "cell_type": "code",
   "execution_count": null,
   "metadata": {
    "collapsed": false,
    "jupyter": {
     "outputs_hidden": false
    }
   },
   "outputs": [],
   "source": [
    "plt.close(\"all\")\n",
    "fig = plt.figure(figsize=(15, 10))\n",
    "plt.rcParams[\"figure.dpi\"] = 100\n",
    "proj = ccrs.NearsidePerspective(central_longitude=nyc_lon, central_latitude=nyc_lat)\n",
    "\n",
    "data = ds.t2m[0, -1, :, :]\n",
    "norm = TwoSlopeNorm(vmin=220, vcenter=290, vmax=320)\n",
    "ax = fig.add_subplot(131, projection=proj)\n",
    "ax.set_title(\"First ensemble member t2m (K)\")\n",
    "img = ax.pcolormesh(\n",
    "    ds.lon, ds.lat, data, transform=ccrs.PlateCarree(), norm=norm, cmap=\"seismic\"\n",
    ")\n",
    "ax.coastlines(linewidth=1)\n",
    "ax.add_feature(countries, edgecolor=\"black\", linewidth=0.25)\n",
    "plt.colorbar(img, ax=ax, shrink=0.40, norm=mcolors.CenteredNorm(vcenter=0))\n",
    "gl = ax.gridlines(draw_labels=True, linestyle=\"--\")\n",
    "\n",
    "data = ds.t2m[-1, -1, :, :]\n",
    "norm = TwoSlopeNorm(vmin=220, vcenter=290, vmax=320)\n",
    "ax = fig.add_subplot(132, projection=proj)\n",
    "plt.rcParams[\"figure.dpi\"] = 100\n",
    "proj = ccrs.NearsidePerspective(central_longitude=nyc_lon, central_latitude=nyc_lat)\n",
    "ax.set_title(\"Last ensemble member t2m (K)\")\n",
    "img = ax.pcolormesh(\n",
    "    ds.lon, ds.lat, data, transform=ccrs.PlateCarree(), norm=norm, cmap=\"seismic\"\n",
    ")\n",
    "ax.coastlines(linewidth=1)\n",
    "ax.add_feature(countries, edgecolor=\"black\", linewidth=0.25)\n",
    "plt.colorbar(img, ax=ax, shrink=0.40, norm=mcolors.CenteredNorm(vcenter=0))\n",
    "gl = ax.gridlines(draw_labels=True, linestyle=\"--\")\n",
    "\n",
    "ds_ensemble_std = ds.std(dim=\"ensemble\")\n",
    "data = ds_ensemble_std.t2m[-1, :, :]\n",
    "# norm = TwoSlopeNorm(vmin=data.min().values, vcenter=5, vmax=data.max().values)\n",
    "proj = ccrs.NearsidePerspective(central_longitude=nyc_lon, central_latitude=nyc_lat)\n",
    "ax = fig.add_subplot(133, projection=proj)\n",
    "ax.set_title(\"ensemble std  t2m (K)\")\n",
    "img = ax.pcolormesh(ds.lon, ds.lat, data, transform=ccrs.PlateCarree(), cmap=\"seismic\")\n",
    "ax.coastlines(linewidth=1)\n",
    "ax.add_feature(countries, edgecolor=\"black\", linewidth=0.25)\n",
    "plt.colorbar(img, ax=ax, shrink=0.40, norm=mcolors.CenteredNorm(vcenter=0))\n",
    "gl = ax.gridlines(draw_labels=True, linestyle=\"--\")\n",
    "plt.savefig(f\"{output_path}/gloabl_surface_temp_contour.png\")"
   ]
  },
  {
   "cell_type": "markdown",
   "metadata": {},
   "source": [
    "Next, lets compute the latitude-weighted global averages and plot time series of\n",
    "ensemble standard deviation."
   ]
  },
  {
   "cell_type": "code",
   "execution_count": null,
   "metadata": {
    "collapsed": false,
    "jupyter": {
     "outputs_hidden": false
    }
   },
   "outputs": [],
   "source": [
    "def global_average(ds):\n",
    "    cos_lat = np.cos(np.deg2rad(ds.lat))\n",
    "    return ds.weighted(cos_lat).mean([\"lat\"]).mean([\"lon\"])\n",
    "\n",
    "\n",
    "ds_ensemble_std = global_average(ds.std(dim=\"ensemble\"))\n",
    "plt.close(\"all\")\n",
    "plt.figure()\n",
    "plt.plot(lead_time, ds_ensemble_std.u10m)\n",
    "plt.xlabel(\"lead time [k]\")\n",
    "plt.ylabel(\"u10m std [m/s]\")\n",
    "plt.savefig(f\"{output_path}/gloabl_std_zonal_surface_wind.png\")"
   ]
  },
  {
   "cell_type": "markdown",
   "metadata": {},
   "source": [
    "Finally, let us plot the wind speed over the Gulf of Mexico. CAn you spot what weather phenomena is happening?"
   ]
  },
  {
   "cell_type": "code",
   "execution_count": null,
   "metadata": {},
   "outputs": [],
   "source": [
    "scale = 1      # scale factor for speeding up plotting\n",
    "max_frames = 40 # maximum number of frames to plot\n",
    "ensemble_member = 2\n",
    "\n",
    "reg_ds = ds.sel(lat=list(np.arange(20,35.25,.25)),\n",
    "                lon=list(np.arange(360-110,360-80.25,.25)))\n",
    "time_str = 'lead time:'\n",
    "projection=ccrs.PlateCarree()\n",
    "var_ds = np.sqrt(np.square(reg_ds.u10m) + np.square(reg_ds.v10m))\n",
    "min_val = 0\n",
    "max_val = float(np.max(var_ds[0,:,:,:]))\n",
    "\n",
    "\n",
    "# define plots\n",
    "def make_figure():\n",
    "    fig = plt.figure(figsize=(11,5))\n",
    "    ax = fig.add_subplot(1, 1, 1, projection=projection)\n",
    "\n",
    "    ax.add_feature(cfeature.COASTLINE,lw=.5)\n",
    "    ax.add_feature(cfeature.RIVERS,lw=.5)\n",
    "    ax.add_feature(cfeature.BORDERS, linewidth=0.6, edgecolor='dimgray')\n",
    "\n",
    "    # ax.set_xticks(np.arange(0., 18., 2.5), crs=crs.PlateCarree())\n",
    "    # ax.set_yticks(np.arange(43.5, 50.,1.5), crs=crs.PlateCarree())\n",
    "    lon_formatter = LongitudeFormatter(zero_direction_label=False)\n",
    "    lat_formatter = LatitudeFormatter()\n",
    "    ax.xaxis.set_major_formatter(lon_formatter)\n",
    "    ax.yaxis.set_major_formatter(lat_formatter)\n",
    "\n",
    "    return fig, ax\n",
    "\n",
    "def make_frame(frame):\n",
    "    print(f'\\rprocessing frame {frame+1} of {min(max_frames, var_ds.shape[1])}', end='')\n",
    "    plot_ds = var_ds[ensemble_member, max(frame,0), :, :]\n",
    "    pc = ax.pcolormesh(reg_ds.lon[::scale], reg_ds.lat[::scale], plot_ds[::scale, ::scale], transform=projection,\n",
    "                    cmap='plasma', vmin=min_val, vmax=max_val)\n",
    "\n",
    "    if frame==-1:\n",
    "        cbar = fig.colorbar(pc, extend='both', shrink=0.8, ax=ax)\n",
    "        cbar.set_label('wind speed [m/s]', fontsize=12)\n",
    "\n",
    "    header = time_str + \" \" + f'{frame*6}:00:00'\n",
    "    ax.set_title(header, fontsize=14)\n",
    "\n",
    "    return pc\n",
    "\n",
    "def animate(frame):\n",
    "    return make_frame(frame)\n",
    "\n",
    "def first_frame():\n",
    "    return make_frame(-1)\n",
    "\n",
    "# make animation\n",
    "%matplotlib inline\n",
    "plt.rcParams[\"animation.html\"] = \"jshtml\"\n",
    "fig, ax = make_figure()\n",
    "ani = animation.FuncAnimation(fig,\n",
    "                              animate,\n",
    "                              min(max_frames, var_ds.shape[1]),\n",
    "                              init_func=first_frame,\n",
    "                              blit=False,\n",
    "                              repeat=False,\n",
    "                              interval=.1)\n",
    "plt.close('all')\n",
    "ani"
   ]
  },
  {
   "cell_type": "markdown",
   "metadata": {},
   "source": [
    "And that completes the introductory notebook into running ensemble weather predictions\n",
    "with AI. In the next notebook, we will look at running different models using more\n",
    "Pythonic APIs and plotting geopotential fields."
   ]
  }
 ],
 "metadata": {
  "kernelspec": {
   "display_name": "Python 3 (ipykernel)",
   "language": "python",
   "name": "python3"
  },
  "language_info": {
   "codemirror_mode": {
    "name": "ipython",
    "version": 3
   },
   "file_extension": ".py",
   "mimetype": "text/x-python",
   "name": "python",
   "nbconvert_exporter": "python",
   "pygments_lexer": "ipython3",
   "version": "3.10.12"
  }
 },
 "nbformat": 4,
 "nbformat_minor": 4
}
