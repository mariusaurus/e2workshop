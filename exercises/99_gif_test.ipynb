{
 "cells": [
  {
   "cell_type": "markdown",
   "metadata": {},
   "source": [
    "\n",
    "# Running Ensemble Inference\n",
    "\n",
    "The following notebook demostrates how to use Earth-2 MIP's config schema and builtin\n",
    "inference workflows to perform ensemmble inference of the FourCastNetv2 small (FCNv2-sm)\n",
    "weather model with an intial state pulled from the Climate Data Store (CDS) and\n",
    "perturbed with random noise. The ensemble output will then be loaded into an Xarray\n",
    "Dataset and some sample data analysis is provided.\n",
    "\n",
    "In summary this notebook will cover the following topics:\n",
    "\n",
    "- Configuring and setting up FCNv2 model registry\n",
    "- An ensemble configuration file\n",
    "- Running ensemble inference in Earth-2 MIP to produce an xarray DataSet\n",
    "- Post processing results\n"
   ]
  },
  {
   "cell_type": "markdown",
   "metadata": {},
   "source": [
    "## Set Up\n",
    "Starting off with imports, hopefully you have already installed Earth-2 MIP from this\n",
    "repository. There are a few additional packages needed.\n",
    "\n"
   ]
  },
  {
   "cell_type": "code",
   "execution_count": null,
   "metadata": {
    "collapsed": false,
    "jupyter": {
     "outputs_hidden": false
    }
   },
   "outputs": [],
   "source": [
    "config = {\n",
    "    \"ensemble_members\": 4,\n",
    "    \"noise_amplitude\": 0.05,\n",
    "    \"simulation_length\": 10,\n",
    "    \"weather_event\": {\n",
    "        \"properties\": {\n",
    "            \"name\": \"Globe\",\n",
    "            \"start_time\": \"2017-08-23 12:00:00\",\n",
    "            #\"start_time\": \"2022-07-01 00:00:00\",\n",
    "            \"initial_condition_source\": \"era5\",\n",
    "        },\n",
    "        \"domains\": [\n",
    "            {\n",
    "                \"name\": \"global\",\n",
    "                \"type\": \"Window\",\n",
    "                \"diagnostics\": [{\"type\": \"raw\", \"channels\": [\"t2m\", \"u10m\", \"v10m\", \"u925\", \"v925\"]}],\n",
    "            }\n",
    "        ],\n",
    "    },\n",
    "    \"output_path\": \"outputs/01_ensemble_notebook\",\n",
    "    \"output_frequency\": 1,\n",
    "    \"weather_model\": \"fcnv2_sm\",\n",
    "    \"seed\": 12345,\n",
    "    \"use_cuda_graphs\": False,\n",
    "    \"ensemble_batch_size\": 1,\n",
    "    \"autocast_fp16\": False,\n",
    "    \"perturbation_strategy\": \"correlated\",\n",
    "    \"noise_reddening\": 2.0,\n",
    "}"
   ]
  },
  {
   "cell_type": "markdown",
   "metadata": {},
   "source": [
    "some text"
   ]
  },
  {
   "cell_type": "code",
   "execution_count": null,
   "metadata": {
    "collapsed": false,
    "jupyter": {
     "outputs_hidden": false
    }
   },
   "outputs": [],
   "source": [
    "import os\n",
    "import xarray\n",
    "import cartopy.crs as ccrs\n",
    "import cartopy.feature as cfeature\n",
    "import matplotlib.colors as mcolors\n",
    "import matplotlib.pyplot as plt\n",
    "import matplotlib.animation as animation\n",
    "from cartopy.mpl.ticker import LongitudeFormatter, LatitudeFormatter\n",
    "import numpy as np\n",
    "\n",
    "datafile = '/e2ws/exercises/harvey_10_days.nc'\n",
    "\n",
    "\n",
    "countries = cfeature.NaturalEarthFeature(\n",
    "    category=\"cultural\",\n",
    "    name=\"admin_0_countries\",\n",
    "    scale=\"50m\",\n",
    "    facecolor=\"none\",\n",
    "    edgecolor=\"black\",\n",
    ")\n",
    "\n",
    "def open_ensemble(f, domain, chunks={\"time\": 1}):\n",
    "    time = xarray.open_dataset(f).time\n",
    "    root = xarray.open_dataset(f, decode_times=False)\n",
    "    ds = xarray.open_dataset(f, chunks=chunks, group=domain)\n",
    "    ds.attrs = root.attrs\n",
    "    return ds.assign_coords(time=time)\n",
    "\n",
    "\n",
    "output_path = config[\"output_path\"]\n",
    "domains = config[\"weather_event\"][\"domains\"][0][\"name\"]\n",
    "ensemble_members = config[\"ensemble_members\"]\n",
    "ds = open_ensemble(datafile, domains)\n",
    "ds"
   ]
  },
  {
   "cell_type": "code",
   "execution_count": null,
   "metadata": {},
   "outputs": [],
   "source": [
    "# reg_ds = ds.sel(lon=list(np.arange(70,85.25,.25)), lat=list(np.arange(20,35.25,.25)))\n",
    "# reg_ds = ds.sel(lat=list(np.arange(20,35.25,.25)))\n",
    "reg_ds = ds.sel(lat=list(np.arange(20,35.25,.25)),\n",
    "                lon=list(np.arange(360-110,360-80.25,.25)))"
   ]
  },
  {
   "cell_type": "markdown",
   "metadata": {},
   "source": [
    "## Post Processing\n",
    "With inference complete, now the fun part: post processing and analysis!\n",
    "You can manipulate the data to your hearts content now that its in an Xarray Dataset.\n",
    "Here we will demonstrate some common plotting / analysis workflows one may be\n",
    "interested. Lets start off with importing all our post processing packages.\n",
    "\n",
    "(You may need to pip install matplotlib and cartopy)\n",
    "\n"
   ]
  },
  {
   "cell_type": "markdown",
   "metadata": {},
   "source": [
    "Next, lets plot some fields of surface temperature. Since we have an ensemble of\n",
    "predictions, lets display the first ensemble member, which is deterministic member,\n",
    "and also the last ensemble member and the ensemmble standard deviation. One or both of\n",
    "the perturbed members may look a little noisy, thats because our noise amplitude is\n",
    "maybe too high. Try lowering the amplitude in the config or changing pertibation type\n",
    "to see what happens.\n",
    "\n"
   ]
  },
  {
   "cell_type": "code",
   "execution_count": null,
   "metadata": {},
   "outputs": [],
   "source": [
    "scale = 1      # scale factor for speeding up plotting\n",
    "max_frames = 20 # maximum number of frames to plot\n",
    "ensemble = 2\n",
    "\n",
    "time_str = 'lead time:'\n",
    "projection=ccrs.PlateCarree()\n",
    "var_ds = np.sqrt(np.square(reg_ds.u10m) + np.square(reg_ds.v10m))\n",
    "min_val = 0\n",
    "max_val = float(np.max(var_ds[0,:,:,:]))\n",
    "\n",
    "# define plots\n",
    "def make_figure():\n",
    "    fig = plt.figure(figsize=(11,5))\n",
    "    ax = fig.add_subplot(1, 1, 1, projection=projection)\n",
    "\n",
    "    ax.add_feature(cfeature.COASTLINE,lw=.5)\n",
    "    ax.add_feature(cfeature.RIVERS,lw=.5)\n",
    "    ax.add_feature(cfeature.BORDERS, linewidth=0.6, edgecolor='dimgray')\n",
    "\n",
    "    # ax.set_xticks(np.arange(0., 18., 2.5), crs=crs.PlateCarree())\n",
    "    # ax.set_yticks(np.arange(43.5, 50.,1.5), crs=crs.PlateCarree())\n",
    "    lon_formatter = LongitudeFormatter(zero_direction_label=False)\n",
    "    lat_formatter = LatitudeFormatter()\n",
    "    ax.xaxis.set_major_formatter(lon_formatter)\n",
    "    ax.yaxis.set_major_formatter(lat_formatter)\n",
    "\n",
    "    return fig, ax\n",
    "\n",
    "def make_frame(frame):\n",
    "    print(f'\\rprocessing frame {frame+1} of {min(max_frames, var_ds.shape[1])}', end='')\n",
    "    plot_ds = var_ds[ensemble, max(frame,0), :, :]\n",
    "    pc = ax.pcolormesh(reg_ds.lon[::scale], reg_ds.lat[::scale], plot_ds[::scale, ::scale], transform=projection,\n",
    "                    cmap='plasma', vmin=min_val, vmax=max_val)\n",
    "\n",
    "    if frame==-1:\n",
    "        cbar = fig.colorbar(pc, extend='both', shrink=0.8, ax=ax)\n",
    "        cbar.set_label('wind speed [m/s]', fontsize=12)\n",
    "\n",
    "    header = time_str + \" \" + f'{frame*6}:00:00'\n",
    "    ax.set_title(header, fontsize=14)\n",
    "\n",
    "    return pc\n",
    "\n",
    "def animate(frame):\n",
    "    return make_frame(frame)\n",
    "\n",
    "def first_frame():\n",
    "    return make_frame(-1)\n",
    "\n",
    "# make animation\n",
    "%matplotlib inline\n",
    "plt.rcParams[\"animation.html\"] = \"jshtml\"\n",
    "fig, ax = make_figure()\n",
    "ani = animation.FuncAnimation(fig,\n",
    "                              animate,\n",
    "                              min(max_frames, var_ds.shape[1]),\n",
    "                              init_func=first_frame,\n",
    "                              blit=False,\n",
    "                              repeat=False,\n",
    "                              interval=.1)\n",
    "plt.close('all')\n",
    "ani"
   ]
  },
  {
   "cell_type": "markdown",
   "metadata": {},
   "source": [
    "some text"
   ]
  },
  {
   "cell_type": "code",
   "execution_count": null,
   "metadata": {
    "collapsed": false,
    "jupyter": {
     "outputs_hidden": false
    }
   },
   "outputs": [],
   "source": [
    "nyc_lat = 40\n",
    "nyc_lon = 360 - 74\n",
    "\n",
    "\n",
    "\n",
    "def Nvidia_cmap():\n",
    "    colors = [\"#8946ff\", \"#ffffff\", \"#00ff00\"]\n",
    "    cmap = mcolors.LinearSegmentedColormap.from_list(\"custom_cmap\", colors)\n",
    "    return cmap\n",
    "\n",
    "\n",
    "plt.close(\"all\")\n",
    "\n",
    "data = ds.u10m[0, 10,:,:]  # [ensemble, time, lat, lon]\n",
    "# data = ds.u925[0, 10,:,:]  # [ensemble, time, lat, lon]\n",
    "\n",
    "fig = plt.figure(figsize=(9, 6))\n",
    "plt.rcParams[\"figure.dpi\"] = 100\n",
    "proj = ccrs.NearsidePerspective(central_longitude=nyc_lon, central_latitude=nyc_lat)\n",
    "\n",
    "ax = fig.add_subplot(111, projection=proj)\n",
    "ax.set_title(\"ens. mean 10 meter zonal wind [m/s]\")\n",
    "img = ax.pcolormesh(\n",
    "    ds.lon,\n",
    "    ds.lat,\n",
    "    data,\n",
    "    transform=ccrs.PlateCarree(),\n",
    "    cmap=Nvidia_cmap(),\n",
    "    # vmin=-20,\n",
    "    # vmax=20,\n",
    ")\n",
    "ax.coastlines(linewidth=1)\n",
    "ax.add_feature(countries, edgecolor=\"black\", linewidth=0.25)\n",
    "plt.colorbar(img, ax=ax, shrink=0.40, norm=mcolors.CenteredNorm(vcenter=0))\n",
    "gl = ax.gridlines(draw_labels=True, linestyle=\"--\")\n",
    "plt.savefig(f\"{output_path}/gloabl_mean_zonal_wind_contour.png\")"
   ]
  },
  {
   "cell_type": "code",
   "execution_count": null,
   "metadata": {},
   "outputs": [],
   "source": []
  }
 ],
 "metadata": {
  "kernelspec": {
   "display_name": "Python 3 (ipykernel)",
   "language": "python",
   "name": "python3"
  },
  "language_info": {
   "codemirror_mode": {
    "name": "ipython",
    "version": 3
   },
   "file_extension": ".py",
   "mimetype": "text/x-python",
   "name": "python",
   "nbconvert_exporter": "python",
   "pygments_lexer": "ipython3",
   "version": "3.10.12"
  }
 },
 "nbformat": 4,
 "nbformat_minor": 4
}
