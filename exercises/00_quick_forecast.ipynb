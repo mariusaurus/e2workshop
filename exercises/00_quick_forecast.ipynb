{
 "cells": [
  {
   "cell_type": "markdown",
   "id": "8abdf4f1",
   "metadata": {},
   "source": [
    "## Quickly Scored Hindcast\n",
    "\n",
    "This notebook shall demonstarte a quick way for producing a forecast using a global AI weather model."
   ]
  },
  {
   "cell_type": "code",
   "execution_count": null,
   "id": "7f2796a1",
   "metadata": {},
   "outputs": [],
   "source": [
    "import datetime\n",
    "import numpy as np\n",
    "from earth2mip.networks import get_model\n",
    "from earth2mip.initial_conditions import hdf5\n",
    "from earth2mip.inference_medium_range import score_deterministic\n",
    "\n",
    "model = \"fcnv2_sm\"\n",
    "model = \"dlwp\"\n",
    "h5_folder = '/e2ws/data/era5_73var'\n",
    "\n",
    "time_loop = get_model(\"e2mip://\"+model, device=\"cuda:0\")\n",
    "data_source = hdf5.DataSource.from_path(\n",
    "    root=h5_folder, channel_names=time_loop.channel_names\n",
    ")\n",
    "\n",
    "score_deterministic(time_loop,\n",
    "     data_source=data_source,\n",
    "     n=10,\n",
    "     initial_times=[datetime.datetime(2017, 2, 27)],\n",
    "     time_mean=data_source.time_means\n",
    "     )"
   ]
  },
  {
   "cell_type": "markdown",
   "id": "9355591e",
   "metadata": {},
   "source": [
    "...can also do a forecast using GFS data."
   ]
  },
  {
   "cell_type": "code",
   "execution_count": null,
   "id": "55d472f9",
   "metadata": {},
   "outputs": [],
   "source": [
    "from earth2mip.initial_conditions import gfs\n",
    "\n",
    "data_source = gfs.DataSource(time_loop.in_channel_names)\n",
    "score_deterministic(time_loop,\n",
    "     data_source=data_source,\n",
    "     n=10,\n",
    "     initial_times=[datetime.datetime(2024, 2, 27)],\n",
    "     time_mean=np.zeros((len(time_loop.in_channel_names), 721, 1440)))"
   ]
  },
  {
   "cell_type": "markdown",
   "id": "df4cfde3",
   "metadata": {},
   "source": [
    "Print wind field and line plot of temperature."
   ]
  },
  {
   "cell_type": "code",
   "execution_count": null,
   "id": "aa305bc7",
   "metadata": {},
   "outputs": [],
   "source": []
  }
 ],
 "metadata": {
  "kernelspec": {
   "display_name": "Python 3 (ipykernel)",
   "language": "python",
   "name": "python3"
  },
  "language_info": {
   "codemirror_mode": {
    "name": "ipython",
    "version": 3
   },
   "file_extension": ".py",
   "mimetype": "text/x-python",
   "name": "python",
   "nbconvert_exporter": "python",
   "pygments_lexer": "ipython3",
   "version": "3.10.12"
  }
 },
 "nbformat": 4,
 "nbformat_minor": 5
}
